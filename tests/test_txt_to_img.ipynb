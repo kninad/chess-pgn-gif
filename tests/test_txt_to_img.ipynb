{
 "cells": [
  {
   "cell_type": "code",
   "execution_count": null,
   "metadata": {},
   "outputs": [],
   "source": [
    "from text_to_img import text_image"
   ]
  },
  {
   "cell_type": "code",
   "execution_count": null,
   "metadata": {},
   "outputs": [],
   "source": [
    "import os\n",
    "files = os.listdir('./.temp/')\n",
    "files"
   ]
  },
  {
   "cell_type": "code",
   "execution_count": null,
   "metadata": {},
   "outputs": [],
   "source": [
    "os.mkdir('./.temp/imgs/')\n",
    "for f in files:\n",
    "    image = text_image('./.temp/' + f) \n",
    "    #image.show()\n",
    "    imgfile = str(f) + '_img.png'\n",
    "    image.save('./.temp/imgs/' + imgfile)\n",
    "\n"
   ]
  },
  {
   "cell_type": "code",
   "execution_count": null,
   "metadata": {},
   "outputs": [],
   "source": [
    "import imageio\n",
    "import shutil\n",
    "\n",
    "imgfolder = './.temp/imgs/'\n",
    "fnames = os.listdir(imgfolder)\n",
    "images=[]\n",
    "fnames.sort()\n",
    "for f in fnames:\n",
    "    images.append(imageio.imread(imgfolder + f))\n",
    "    \n",
    "imageio.mimsave('./game.gif', images, duration=2)\n",
    "\n",
    "shutil.rmtree('./.temp/')\n",
    "\n"
   ]
  }
 ],
 "metadata": {
  "kernelspec": {
   "display_name": "chess-gif",
   "language": "python",
   "name": "python3"
  },
  "language_info": {
   "codemirror_mode": {
    "name": "ipython",
    "version": 3
   },
   "file_extension": ".py",
   "mimetype": "text/x-python",
   "name": "python",
   "nbconvert_exporter": "python",
   "pygments_lexer": "ipython3",
   "version": "3.11.0"
  },
  "vscode": {
   "interpreter": {
    "hash": "bbbc8612596aea9886ae3a034307263db503890e16d8c899d9f89200bb146b44"
   }
  }
 },
 "nbformat": 4,
 "nbformat_minor": 2
}
