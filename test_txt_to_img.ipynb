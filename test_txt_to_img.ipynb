{
 "cells": [
  {
   "cell_type": "code",
   "execution_count": 1,
   "metadata": {},
   "outputs": [],
   "source": [
    "from textToImg import text_image"
   ]
  },
  {
   "cell_type": "code",
   "execution_count": 37,
   "metadata": {},
   "outputs": [
    {
     "data": {
      "text/plain": [
       "['31_file.txt',\n",
       " '30_file.txt',\n",
       " '33_file.txt',\n",
       " '26_file.txt',\n",
       " '22_file.txt',\n",
       " '32_file.txt',\n",
       " '23_file.txt',\n",
       " '24_file.txt',\n",
       " '34_file.txt',\n",
       " '28_file.txt',\n",
       " '19_file.txt',\n",
       " '21_file.txt',\n",
       " '17_file.txt',\n",
       " '12_file.txt',\n",
       " '16_file.txt',\n",
       " '10_file.txt',\n",
       " '13_file.txt',\n",
       " '11_file.txt',\n",
       " '29_file.txt',\n",
       " '25_file.txt',\n",
       " '35_file.txt',\n",
       " '20_file.txt',\n",
       " '27_file.txt',\n",
       " '18_file.txt',\n",
       " '36_file.txt',\n",
       " '14_file.txt',\n",
       " '15_file.txt']"
      ]
     },
     "execution_count": 37,
     "metadata": {},
     "output_type": "execute_result"
    }
   ],
   "source": [
    "import os\n",
    "files = os.listdir('./.temp/')\n",
    "files"
   ]
  },
  {
   "cell_type": "code",
   "execution_count": 38,
   "metadata": {},
   "outputs": [],
   "source": [
    "os.mkdir('./.temp/imgs/')\n",
    "for f in files:\n",
    "    image = text_image('./.temp/' + f) \n",
    "    #image.show()\n",
    "    imgfile = str(f) + '_img.png'\n",
    "    image.save('./.temp/imgs/' + imgfile)\n",
    "\n"
   ]
  },
  {
   "cell_type": "code",
   "execution_count": 39,
   "metadata": {},
   "outputs": [],
   "source": [
    "import imageio\n",
    "import shutil\n",
    "\n",
    "imgfolder = './.temp/imgs/'\n",
    "fnames = os.listdir(imgfolder)\n",
    "images=[]\n",
    "fnames.sort()\n",
    "for f in fnames:\n",
    "    images.append(imageio.imread(imgfolder + f))\n",
    "    \n",
    "imageio.mimsave('./game.gif', images, duration=2)\n",
    "\n",
    "shutil.rmtree('./.temp/')\n",
    "\n"
   ]
  }
 ],
 "metadata": {
  "kernelspec": {
   "display_name": "Python 3",
   "language": "python",
   "name": "python3"
  },
  "language_info": {
   "codemirror_mode": {
    "name": "ipython",
    "version": 3
   },
   "file_extension": ".py",
   "mimetype": "text/x-python",
   "name": "python",
   "nbconvert_exporter": "python",
   "pygments_lexer": "ipython3",
   "version": "3.6.4"
  }
 },
 "nbformat": 4,
 "nbformat_minor": 2
}
